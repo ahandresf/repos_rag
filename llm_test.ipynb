{
 "cells": [
  {
   "cell_type": "code",
   "execution_count": null,
   "metadata": {},
   "outputs": [],
   "source": [
    "import yaml\n"
   ]
  },
  {
   "cell_type": "code",
   "execution_count": null,
   "metadata": {},
   "outputs": [],
   "source": [
    "with open(\"secrets.yml\",\"r\") as ymlfile:\n",
    "    sec_keys = yalm.load(ymlfile, loader = yaml.FullLoader)"
   ]
  }
 ],
 "metadata": {
  "kernelspec": {
   "display_name": "base",
   "language": "python",
   "name": "python3"
  },
  "language_info": {
   "name": "python",
   "version": "3.8.3"
  },
  "orig_nbformat": 4,
  "vscode": {
   "interpreter": {
    "hash": "12a95d0f75d8835e4280b11a50c57974040cc6f5fc6359016778df2333765c67"
   }
  }
 },
 "nbformat": 4,
 "nbformat_minor": 2
}
